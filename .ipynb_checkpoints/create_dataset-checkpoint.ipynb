{
 "cells": [
  {
   "cell_type": "code",
   "execution_count": 1,
   "id": "cd94e20a-16ac-4fdf-a9cd-9154a31f047d",
   "metadata": {
    "tags": []
   },
   "outputs": [],
   "source": [
    "import numpy as np\n",
    "import cv2"
   ]
  },
  {
   "cell_type": "code",
   "execution_count": 2,
   "id": "131f6d21-70c5-4cb4-8f8b-9a75697427f3",
   "metadata": {},
   "outputs": [],
   "source": [
    "# Create a dataset used to verify the validity o four KNN classifier\n",
    "\n",
    "# Tools:\n",
    "# 1. Randomizer\n",
    "# 2. Mask\n"
   ]
  },
  {
   "cell_type": "code",
   "execution_count": 3,
   "id": "5e88f1e0-791d-4c76-a689-2f470f57221a",
   "metadata": {},
   "outputs": [],
   "source": [
    "def create_circular_mask(h, w, center=None, radius= None):\n",
    "    if center is None: # use the middle of the image\n",
    "        center = (int(w/2), int(h/2))\n",
    "    if radius is None: # use the smallest distance between the center and image walls\n",
    "        radius = min(center[0], center[1], w-center[0], h-center[1])\n",
    "    Y, X = np.ogrid[:h, :w]\n",
    "    distance_from_the_center = np.sqrt((X - center[0])**2 + (Y - center[1])**2) # Calculates distance of every point from the center point\n",
    "    \n",
    "    mask = distance_from_the_center <= radius # All distance from the center which is smaller than the radius will be True/ not masked.\n",
    "    \n",
    "    return mask\n",
    "    "
   ]
  },
  {
   "cell_type": "code",
   "execution_count": 4,
   "id": "ed9af77d-ae48-47c5-b9bc-a3acf9168a1a",
   "metadata": {},
   "outputs": [
    {
     "data": {
      "text/plain": [
       "array([[False, False, False, False, False,  True, False, False, False,\n",
       "        False],\n",
       "       [False, False,  True,  True,  True,  True,  True,  True,  True,\n",
       "        False],\n",
       "       [False,  True,  True,  True,  True,  True,  True,  True,  True,\n",
       "         True],\n",
       "       [False,  True,  True,  True,  True,  True,  True,  True,  True,\n",
       "         True],\n",
       "       [False,  True,  True,  True,  True,  True,  True,  True,  True,\n",
       "         True],\n",
       "       [ True,  True,  True,  True,  True,  True,  True,  True,  True,\n",
       "         True],\n",
       "       [False,  True,  True,  True,  True,  True,  True,  True,  True,\n",
       "         True],\n",
       "       [False,  True,  True,  True,  True,  True,  True,  True,  True,\n",
       "         True],\n",
       "       [False,  True,  True,  True,  True,  True,  True,  True,  True,\n",
       "         True],\n",
       "       [False, False,  True,  True,  True,  True,  True,  True,  True,\n",
       "        False]])"
      ]
     },
     "execution_count": 4,
     "metadata": {},
     "output_type": "execute_result"
    }
   ],
   "source": [
    "create_circular_mask(10, 10)"
   ]
  },
  {
   "cell_type": "code",
   "execution_count": 5,
   "id": "8875bfbb-7842-4c52-b4b2-b504d2b33339",
   "metadata": {},
   "outputs": [
    {
     "name": "stdout",
     "output_type": "stream",
     "text": [
      "image size: (417, 313, 3)\n",
      "Binary mask shape: (417, 313)\n",
      "Colored mask shape: (417, 313, 3)\n"
     ]
    },
    {
     "data": {
      "text/plain": [
       "\"\\n# display the mask and masked image\\ncv2.imshow('Mask',mask)\\ncv2.waitKey(0)\\n#cv2.imshow('Masked Image',result)\\n#cv2.waitKey(0)\\ncv2.destroyAllWindows()\\n\""
      ]
     },
     "execution_count": 5,
     "metadata": {},
     "output_type": "execute_result"
    }
   ],
   "source": [
    "img = cv2.imread('images/bnw_cat.jpg')\n",
    "\n",
    "print(f'image size: {img.shape}')\n",
    "\n",
    "hsv = cv2.cvtColor(img, cv2.COLOR_BGR2HSV)\n",
    "# define range of blue color in HSV\n",
    "#lower_white = np.array([0,0,0], dtype=np.uint8)\n",
    "#upper_white = np.array([0,20,255], dtype=np.uint8)\n",
    "\n",
    "lower_black = np.array([0,0,0], dtype=np.uint8)\n",
    "upper_black = np.array([100,100,100], dtype=np.uint8)\n",
    "\n",
    "# Create a mask. Threshold the HSV image to get only white colors\n",
    "mask = cv2.inRange(hsv, lower_black, upper_black)\n",
    "print(f'Binary mask shape: {mask.shape}')\n",
    "\n",
    "# Bitwise-AND mask and original image\n",
    "result = cv2.bitwise_and(img,img, mask= mask)\n",
    "\n",
    "print(f'Colored mask shape: {result.shape}')\n",
    "\n",
    "'''\n",
    "# display the mask and masked image\n",
    "cv2.imshow('Mask',mask)\n",
    "cv2.waitKey(0)\n",
    "#cv2.imshow('Masked Image',result)\n",
    "#cv2.waitKey(0)\n",
    "cv2.destroyAllWindows()\n",
    "'''"
   ]
  },
  {
   "cell_type": "code",
   "execution_count": null,
   "id": "1df8170e-a594-4c83-a799-8bfb9b80d4cf",
   "metadata": {},
   "outputs": [],
   "source": [
    "gray = cv2.cvtColor(img, cv2.COLOR_BGR2GRAY)\n",
    "edged = cv2.Canny(gray, 30, 200)\n",
    "\n",
    "contours, hierarchy = cv2.findContours(edged.copy(), cv2.RETR_EXTERNAL, cv2.CHAIN_APPROX_NONE)\n",
    "\n",
    "cv2.imshow('Canny Edges After Contouring', edged)\n",
    "cv2.waitKey(0)"
   ]
  },
  {
   "cell_type": "code",
   "execution_count": null,
   "id": "9b57189a-096e-4401-af62-75393bcdded0",
   "metadata": {},
   "outputs": [],
   "source": []
  }
 ],
 "metadata": {
  "kernelspec": {
   "display_name": "LinearRegressionPlayground",
   "language": "python",
   "name": "linearregressionplayground"
  },
  "language_info": {
   "codemirror_mode": {
    "name": "ipython",
    "version": 3
   },
   "file_extension": ".py",
   "mimetype": "text/x-python",
   "name": "python",
   "nbconvert_exporter": "python",
   "pygments_lexer": "ipython3",
   "version": "3.10.9"
  }
 },
 "nbformat": 4,
 "nbformat_minor": 5
}
