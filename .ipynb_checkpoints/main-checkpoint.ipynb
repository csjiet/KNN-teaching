{
 "cells": [
  {
   "cell_type": "code",
   "execution_count": 1,
   "id": "63b20e28-5dbe-4913-9919-8492a3a47dba",
   "metadata": {},
   "outputs": [],
   "source": [
    "import numpy as np\n",
    "import matplotlib.pyplot as plt"
   ]
  },
  {
   "cell_type": "code",
   "execution_count": 2,
   "id": "2a96ff71-8f1b-4c7c-9d2d-8ca09c55afab",
   "metadata": {},
   "outputs": [],
   "source": [
    "# This function implements the KNN classifier"
   ]
  },
  {
   "cell_type": "code",
   "execution_count": 3,
   "id": "4836f73f-87f5-4424-922d-c92c79cf2fae",
   "metadata": {},
   "outputs": [],
   "source": [
    "# Create a dense 2D grid of data points \n",
    "\n",
    "# Target classifier, g: It has a array P which is the classifier computed using all points in P (hw5data.txt). \n",
    "\n",
    "# Teaching/ student classifier, f: It has a array D which picks elements from P (hw5data.txt) D is a \n",
    "# subset or proper set of P, which holds the data points we want to include in teaching.\n",
    "\n",
    "# We than use the dense grid to map it onto both the target classifier and teaching classifier. This generates\n",
    "# feature vectors (x_{1}, x_{2}, y) with the same dimensions.\n",
    "\n",
    "# Both feature vectors are fed into the disagreement function, which compares each dense grid points correspondingly\n",
    "# by comparing their corresponding\n",
    "# f(x') - computed from teaching classifier, and y' - computed from target classifiers which is defined in the disagreement function.\n",
    "# Return the result of the unified cost function.\n",
    "\n",
    "# Use that cost function result to do enumeration and greedy respectively. \n",
    "\n",
    "# Map the dense 2D grid to the target classifier, since we will be using it for all comparisons.\n",
    "\n",
    "# Enumeration\n",
    "\n",
    "# Define n\n",
    "# Create a dataset enumeration function that takes in argument: n - size of teaching set\n",
    "# Call the itertools.combination function, and find all combinations of list of n data points, which will form the teaching set.\n",
    "# For each combination of teaching set, run KNN, and map the dense 2D grid; take both 2D grids into the disagreement function.\n",
    "# Only keep the list of n data points with the least \"cost\" in the disagreement function.\n",
    "\n",
    "# Greedy\n",
    "# Randomly pick a data point to make the teaching set's size = 1.\n"
   ]
  },
  {
   "cell_type": "code",
   "execution_count": null,
   "id": "74036ffb-3955-4da2-a2a8-ec605ea4eb4e",
   "metadata": {},
   "outputs": [],
   "source": []
  }
 ],
 "metadata": {
  "kernelspec": {
   "display_name": "LinearRegressionPlayground",
   "language": "python",
   "name": "linearregressionplayground"
  },
  "language_info": {
   "codemirror_mode": {
    "name": "ipython",
    "version": 3
   },
   "file_extension": ".py",
   "mimetype": "text/x-python",
   "name": "python",
   "nbconvert_exporter": "python",
   "pygments_lexer": "ipython3",
   "version": "3.10.9"
  }
 },
 "nbformat": 4,
 "nbformat_minor": 5
}
