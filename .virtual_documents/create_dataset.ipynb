import numpy as np
import cv2


# Create a dataset used to verify the validity o four KNN classifier

# Tools:
# 1. Randomizer
# 2. Mask



def create_circular_mask(h, w, center=None, radius= None):
    if center is None: # use the middle of the image
        center = (int(w/2), int(h/2))
    if radius is None: # use the smallest distance between the center and image walls
        radius = min(center[0], center[1], w-center[0], h-center[1])
    Y, X = np.ogrid[:h, :w]
    distance_from_the_center = np.sqrt((X - center[0])**2 + (Y - center[1])**2) # Calculates distance of every point from the center point
    
    mask = distance_from_the_center <= radius # All distance from the center which is smaller than the radius will be True/ not masked.
    
    return mask
    


create_circular_mask(10, 10)


img = cv2.imread('images/bnw_cat.jpg')

print(f'image size: {img.shape}')

hsv = cv2.cvtColor(img, cv2.COLOR_BGR2HSV)
# define range of blue color in HSV
#lower_white = np.array([0,0,0], dtype=np.uint8)
#upper_white = np.array([0,20,255], dtype=np.uint8)

lower_black = np.array([0,0,0], dtype=np.uint8)
upper_black = np.array([100,100,100], dtype=np.uint8)

# Create a mask. Threshold the HSV image to get only white colors
mask = cv2.inRange(hsv, lower_black, upper_black)
print(f'Binary mask shape: {mask.shape}')

# Bitwise-AND mask and original image
result = cv2.bitwise_and(img,img, mask= mask)

print(f'Colored mask shape: {result.shape}')

'''
# display the mask and masked image
cv2.imshow('Mask',mask)
cv2.waitKey(0)
#cv2.imshow('Masked Image',result)
#cv2.waitKey(0)
cv2.destroyAllWindows()
'''


gray = cv2.cvtColor(img, cv2.COLOR_BGR2GRAY)
edged = cv2.Canny(gray, 30, 200)

contours, hierarchy = cv2.findContours(edged.copy(), cv2.RETR_EXTERNAL, cv2.CHAIN_APPROX_NONE)

cv2.imshow('Canny Edges After Contouring', edged)
cv2.waitKey(0)



