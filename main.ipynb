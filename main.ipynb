{
 "cells": [
  {
   "cell_type": "code",
   "execution_count": 3,
   "id": "63b20e28-5dbe-4913-9919-8492a3a47dba",
   "metadata": {},
   "outputs": [],
   "source": [
    "import numpy as np\n",
    "import matplotlib.pyplot as plt"
   ]
  },
  {
   "cell_type": "code",
   "execution_count": 6,
   "id": "2a96ff71-8f1b-4c7c-9d2d-8ca09c55afab",
   "metadata": {},
   "outputs": [],
   "source": [
    "# This function implements the KNN classifier\n",
    "# This function computes the euclidean distance between data points\n",
    "def euclidean_distance(x_s,y_s):\n",
    "    # Iterates each element from both arrays, take its difference and power 2 before square root\n",
    "    return np.sqrt(np.sum((x_s-y_s)**2))\n",
    "\n",
    "# This function implements the Knn classifier\n",
    "def knn(k, predicted_dp, pool):\n",
    "    distances = [euclidean_distance(np.array([predicted_dp[0], predicted_dp[1]]),np.array([x, y])) for x, y, class_id in pool]\n",
    "    vote_pool_indices = np.argsort(distances)[:k]\n",
    "    vote_pool_classes = [pool[i][2] for i in vote_pool_indices]\n",
    "    vote_result = Counter(vote_pool_classes).most_common()\n",
    "    \n",
    "    return vote_result[0][0]"
   ]
  },
  {
   "cell_type": "code",
   "execution_count": null,
   "id": "c72f265e-87a8-4653-9896-084a020d61ce",
   "metadata": {},
   "outputs": [],
   "source": []
  },
  {
   "cell_type": "code",
   "execution_count": 5,
   "id": "4836f73f-87f5-4424-922d-c92c79cf2fae",
   "metadata": {},
   "outputs": [],
   "source": [
    "# Create a dense 2D grid of data points \n",
    "mesh_X, mesh_Y = np.mgrid[0:8:10j,0:8:10j]\n",
    "\n",
    "# Target classifier, g: It has a array P which is the classifier computed using all points in P (hw5data.txt). \n",
    "\n",
    "# Teaching/ student classifier, f: It has a array D which picks elements from P (hw5data.txt) D is a \n",
    "# subset or proper set of P, which holds the data points we want to include in teaching.\n",
    "\n",
    "# We than use the dense grid to map it onto both the target classifier and teaching classifier. This generates\n",
    "# feature vectors (x_{1}, x_{2}, y) with the same dimensions.\n",
    "\n",
    "# Both feature vectors are fed into the disagreement function, which compares each dense grid points correspondingly\n",
    "# by comparing their corresponding\n",
    "# f(x') - computed from teaching classifier, and y' - computed from target classifiers which is defined in the disagreement function.\n",
    "# Return the result of the unified cost function.\n",
    "\n",
    "# Use that cost function result to do enumeration and greedy respectively. \n",
    "\n",
    "# Map the dense 2D grid to the target classifier, since we will be using it for all comparisons.\n",
    "\n",
    "# Enumeration\n",
    "\n",
    "# Define n\n",
    "# Create a dataset enumeration function that takes in argument: n - size of teaching set\n",
    "# Call the itertools.combination function, and find all combinations of list of n data points, which will form the teaching set.\n",
    "# For each combination of teaching set, run KNN, and map the dense 2D grid; take both 2D grids into the disagreement function.\n",
    "# Only keep the list of n data points with the least \"cost\" in the disagreement function.\n",
    "\n",
    "# Greedy\n",
    "# Randomly pick a data point to make the teaching set's size = 1.\n",
    "# Iterate over each point in the pool, and store the data point that yields the smallest disagreement function value into the teaching set   \n",
    "# Repeat until the teaching set, D reaches size n\n"
   ]
  },
  {
   "cell_type": "code",
   "execution_count": null,
   "id": "74036ffb-3955-4da2-a2a8-ec605ea4eb4e",
   "metadata": {},
   "outputs": [],
   "source": []
  }
 ],
 "metadata": {
  "kernelspec": {
   "display_name": "LinearRegressionPlayground",
   "language": "python",
   "name": "linearregressionplayground"
  },
  "language_info": {
   "codemirror_mode": {
    "name": "ipython",
    "version": 3
   },
   "file_extension": ".py",
   "mimetype": "text/x-python",
   "name": "python",
   "nbconvert_exporter": "python",
   "pygments_lexer": "ipython3",
   "version": "3.10.9"
  }
 },
 "nbformat": 4,
 "nbformat_minor": 5
}
